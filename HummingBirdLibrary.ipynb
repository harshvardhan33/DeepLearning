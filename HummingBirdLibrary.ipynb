{
  "nbformat": 4,
  "nbformat_minor": 0,
  "metadata": {
    "colab": {
      "name": "HummingBirdLibrary.ipynb",
      "provenance": [],
      "collapsed_sections": []
    },
    "kernelspec": {
      "name": "python3",
      "display_name": "Python 3"
    },
    "accelerator": "GPU"
  },
  "cells": [
    {
      "cell_type": "code",
      "metadata": {
        "id": "1q3D7kEmFYhE",
        "colab_type": "code",
        "colab": {
          "base_uri": "https://localhost:8080/",
          "height": 118
        },
        "outputId": "98f15a74-deaf-4f80-b38a-f90f3a7dc203"
      },
      "source": [
        "from sklearn import  datasets\n",
        "from sklearn.model_selection import train_test_split\n",
        "from sklearn import tree\n",
        "from sklearn.metrics import accuracy_score\n",
        "\n",
        "\n",
        "iris=datasets.load_iris()\n",
        "x=iris.data\n",
        "y=iris.target\n",
        "x_train,x_test,y_train,y_test=train_test_split(x,y,test_size=.5)\n",
        "\n",
        "classifier=tree.DecisionTreeClassifier()\n",
        "classifier.fit(x_train,y_train)\n"
      ],
      "execution_count": 2,
      "outputs": [
        {
          "output_type": "execute_result",
          "data": {
            "text/plain": [
              "DecisionTreeClassifier(ccp_alpha=0.0, class_weight=None, criterion='gini',\n",
              "                       max_depth=None, max_features=None, max_leaf_nodes=None,\n",
              "                       min_impurity_decrease=0.0, min_impurity_split=None,\n",
              "                       min_samples_leaf=1, min_samples_split=2,\n",
              "                       min_weight_fraction_leaf=0.0, presort='deprecated',\n",
              "                       random_state=None, splitter='best')"
            ]
          },
          "metadata": {
            "tags": []
          },
          "execution_count": 2
        }
      ]
    },
    {
      "cell_type": "code",
      "metadata": {
        "id": "GHN7ly8HGJmY",
        "colab_type": "code",
        "colab": {
          "base_uri": "https://localhost:8080/",
          "height": 50
        },
        "outputId": "5929853b-afd5-4236-c01e-ff4e249641d1"
      },
      "source": [
        "%%timeit -r 3\n",
        "predictions=classifier.predict(x_test)"
      ],
      "execution_count": 3,
      "outputs": [
        {
          "output_type": "stream",
          "text": [
            "The slowest run took 4.46 times longer than the fastest. This could mean that an intermediate result is being cached.\n",
            "10000 loops, best of 3: 82.6 µs per loop\n"
          ],
          "name": "stdout"
        }
      ]
    },
    {
      "cell_type": "markdown",
      "metadata": {
        "id": "ALiOmMO0KDDC",
        "colab_type": "text"
      },
      "source": [
        "# Converting the model into Humming Bird"
      ]
    },
    {
      "cell_type": "code",
      "metadata": {
        "id": "LyTBK6gRGgqr",
        "colab_type": "code",
        "colab": {
          "base_uri": "https://localhost:8080/",
          "height": 319
        },
        "outputId": "b601a367-8db0-4545-dd76-2dd86672d2bd"
      },
      "source": [
        "from hummingbird.ml import convert\n",
        "model = convert(classifier, 'pytorch')\n",
        "model.to('cuda')"
      ],
      "execution_count": 4,
      "outputs": [
        {
          "output_type": "stream",
          "text": [
            "ONNX runtime not installed. Please check https://github.com/microsoft/onnxruntime#installation for instructions.\n",
            "ONNX runtime not installed. Please check https://github.com/microsoft/onnxruntime#installation for instructions.\n"
          ],
          "name": "stdout"
        },
        {
          "output_type": "execute_result",
          "data": {
            "text/plain": [
              "PyTorchBackendModelClassification(\n",
              "  (operator_map): ModuleDict(\n",
              "    (SklearnDecisionTreeClassifier): PerfectTreeTraversalDecisionTreeImpl(\n",
              "      (nodes): ParameterList(\n",
              "          (0): Parameter containing: [torch.cuda.LongTensor of size 2 (GPU 0)]\n",
              "          (1): Parameter containing: [torch.cuda.LongTensor of size 4 (GPU 0)]\n",
              "          (2): Parameter containing: [torch.cuda.LongTensor of size 8 (GPU 0)]\n",
              "      )\n",
              "      (biases): ParameterList(\n",
              "          (0): Parameter containing: [torch.cuda.FloatTensor of size 2 (GPU 0)]\n",
              "          (1): Parameter containing: [torch.cuda.FloatTensor of size 4 (GPU 0)]\n",
              "          (2): Parameter containing: [torch.cuda.FloatTensor of size 8 (GPU 0)]\n",
              "      )\n",
              "    )\n",
              "  )\n",
              ")"
            ]
          },
          "metadata": {
            "tags": []
          },
          "execution_count": 4
        }
      ]
    },
    {
      "cell_type": "code",
      "metadata": {
        "id": "oNsh-7AAG0mc",
        "colab_type": "code",
        "colab": {
          "base_uri": "https://localhost:8080/",
          "height": 118
        },
        "outputId": "1f674286-68fc-4690-9ea8-2b2db141ec5a"
      },
      "source": [
        "%%time\n",
        "model.predict(x_test)"
      ],
      "execution_count": 5,
      "outputs": [
        {
          "output_type": "stream",
          "text": [
            "CPU times: user 1.82 ms, sys: 3 ms, total: 4.82 ms\n",
            "Wall time: 112 ms\n"
          ],
          "name": "stdout"
        },
        {
          "output_type": "execute_result",
          "data": {
            "text/plain": [
              "array([0, 0, 0, 2, 1, 2, 1, 2, 0, 0, 0, 0, 0, 1, 0, 2, 1, 2, 1, 2, 1, 2,\n",
              "       0, 0, 0, 0, 0, 2, 1, 2, 2, 2, 2, 1, 0, 0, 1, 2, 2, 2, 2, 2, 0, 2,\n",
              "       1, 2, 1, 2, 2, 1, 0, 0, 0, 2, 2, 2, 2, 0, 0, 1, 0, 1, 1, 0, 0, 0,\n",
              "       2, 2, 0, 0, 1, 1, 2, 1, 1])"
            ]
          },
          "metadata": {
            "tags": []
          },
          "execution_count": 5
        }
      ]
    },
    {
      "cell_type": "code",
      "metadata": {
        "id": "cEUdD40FH0Dv",
        "colab_type": "code",
        "colab": {}
      },
      "source": [
        ""
      ],
      "execution_count": null,
      "outputs": []
    }
  ]
}