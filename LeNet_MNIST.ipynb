{
  "nbformat": 4,
  "nbformat_minor": 0,
  "metadata": {
    "colab": {
      "name": "LeNet_MNIST.ipynb",
      "provenance": []
    },
    "kernelspec": {
      "name": "python3",
      "display_name": "Python 3"
    },
    "accelerator": "GPU"
  },
  "cells": [
    {
      "cell_type": "code",
      "metadata": {
        "id": "6r9XL1lZqA8k",
        "colab_type": "code",
        "colab": {
          "base_uri": "https://localhost:8080/",
          "height": 826
        },
        "outputId": "8c60b7f6-7c5d-44de-9f39-111f1b878bfb"
      },
      "source": [
        "import keras\n",
        "from keras.datasets import mnist\n",
        "from keras.layers import Conv2D, MaxPooling2D\n",
        "from keras.layers import Dense, Flatten\n",
        "from keras.models import Sequential\n",
        "\n",
        "# Loading the dataset and perform splitting\n",
        "(x_train, y_train), (x_test, y_test) = mnist.load_data()\n",
        "# Peforming reshaping operation\n",
        "x_train = x_train.reshape(x_train.shape[0], 28, 28, 1)\n",
        "x_test = x_test.reshape(x_test.shape[0], 28, 28, 1)\n",
        "\n",
        "# Normalization\n",
        "x_train = x_train / 255\n",
        "x_test = x_test / 255\n",
        "\n",
        "# One Hot Encoding\n",
        "y_train = keras.utils.to_categorical(y_train, 10)\n",
        "y_test = keras.utils.to_categorical(y_test, 10)\n",
        "# Building the Model Architecture\n",
        "\n",
        "model = Sequential()\n",
        "model.add(Conv2D(6, kernel_size=(5, 5), activation='relu', input_shape=(28, 28, 1)))\n",
        "model.add(MaxPooling2D(pool_size=(2, 2)))\n",
        "model.add(Conv2D(16, kernel_size=(5, 5), activation='relu'))\n",
        "model.add(MaxPooling2D(pool_size=(2, 2)))\n",
        "model.add(Flatten())\n",
        "model.add(Dense(120, activation='relu'))\n",
        "model.add(Dense(84, activation='relu'))\n",
        "model.add(Dense(10, activation='softmax'))\n",
        "model.compile(loss=keras.metrics.categorical_crossentropy, optimizer=keras.optimizers.Adam(), metrics=['accuracy'])\n",
        "model.fit(x_train, y_train, batch_size=128, epochs=20, verbose=1, validation_data=(x_test, y_test))\n",
        "score = model.evaluate(x_test, y_test)\n",
        "print('Test Loss:', score[0])\n",
        "print('Test accuracy:', score[1])"
      ],
      "execution_count": 1,
      "outputs": [
        {
          "output_type": "stream",
          "text": [
            "Using TensorFlow backend.\n"
          ],
          "name": "stderr"
        },
        {
          "output_type": "stream",
          "text": [
            "Downloading data from https://s3.amazonaws.com/img-datasets/mnist.npz\n",
            "11493376/11490434 [==============================] - 0s 0us/step\n",
            "Train on 60000 samples, validate on 10000 samples\n",
            "Epoch 1/20\n",
            "60000/60000 [==============================] - 10s 170us/step - loss: 0.3071 - accuracy: 0.9146 - val_loss: 0.0983 - val_accuracy: 0.9688\n",
            "Epoch 2/20\n",
            "60000/60000 [==============================] - 4s 71us/step - loss: 0.0835 - accuracy: 0.9738 - val_loss: 0.0682 - val_accuracy: 0.9781\n",
            "Epoch 3/20\n",
            "60000/60000 [==============================] - 4s 65us/step - loss: 0.0584 - accuracy: 0.9819 - val_loss: 0.0460 - val_accuracy: 0.9852\n",
            "Epoch 4/20\n",
            "60000/60000 [==============================] - 4s 66us/step - loss: 0.0477 - accuracy: 0.9849 - val_loss: 0.0392 - val_accuracy: 0.9881\n",
            "Epoch 5/20\n",
            "60000/60000 [==============================] - 4s 65us/step - loss: 0.0401 - accuracy: 0.9877 - val_loss: 0.0355 - val_accuracy: 0.9882\n",
            "Epoch 6/20\n",
            "60000/60000 [==============================] - 4s 65us/step - loss: 0.0340 - accuracy: 0.9894 - val_loss: 0.0413 - val_accuracy: 0.9865\n",
            "Epoch 7/20\n",
            "60000/60000 [==============================] - 4s 65us/step - loss: 0.0295 - accuracy: 0.9904 - val_loss: 0.0447 - val_accuracy: 0.9852\n",
            "Epoch 8/20\n",
            "60000/60000 [==============================] - 4s 65us/step - loss: 0.0257 - accuracy: 0.9918 - val_loss: 0.0343 - val_accuracy: 0.9894\n",
            "Epoch 9/20\n",
            "60000/60000 [==============================] - 4s 65us/step - loss: 0.0232 - accuracy: 0.9926 - val_loss: 0.0331 - val_accuracy: 0.9885\n",
            "Epoch 10/20\n",
            "60000/60000 [==============================] - 4s 64us/step - loss: 0.0209 - accuracy: 0.9930 - val_loss: 0.0352 - val_accuracy: 0.9878\n",
            "Epoch 11/20\n",
            "60000/60000 [==============================] - 4s 65us/step - loss: 0.0166 - accuracy: 0.9945 - val_loss: 0.0317 - val_accuracy: 0.9897\n",
            "Epoch 12/20\n",
            "60000/60000 [==============================] - 4s 65us/step - loss: 0.0155 - accuracy: 0.9951 - val_loss: 0.0330 - val_accuracy: 0.9900\n",
            "Epoch 13/20\n",
            "60000/60000 [==============================] - 4s 65us/step - loss: 0.0141 - accuracy: 0.9956 - val_loss: 0.0333 - val_accuracy: 0.9899\n",
            "Epoch 14/20\n",
            "60000/60000 [==============================] - 4s 65us/step - loss: 0.0128 - accuracy: 0.9958 - val_loss: 0.0327 - val_accuracy: 0.9907\n",
            "Epoch 15/20\n",
            "60000/60000 [==============================] - 4s 64us/step - loss: 0.0111 - accuracy: 0.9961 - val_loss: 0.0344 - val_accuracy: 0.9900\n",
            "Epoch 16/20\n",
            "60000/60000 [==============================] - 4s 65us/step - loss: 0.0113 - accuracy: 0.9961 - val_loss: 0.0457 - val_accuracy: 0.9877\n",
            "Epoch 17/20\n",
            "60000/60000 [==============================] - 4s 65us/step - loss: 0.0102 - accuracy: 0.9965 - val_loss: 0.0386 - val_accuracy: 0.9895\n",
            "Epoch 18/20\n",
            "60000/60000 [==============================] - 4s 64us/step - loss: 0.0083 - accuracy: 0.9973 - val_loss: 0.0308 - val_accuracy: 0.9916\n",
            "Epoch 19/20\n",
            "60000/60000 [==============================] - 4s 65us/step - loss: 0.0083 - accuracy: 0.9973 - val_loss: 0.0388 - val_accuracy: 0.9896\n",
            "Epoch 20/20\n",
            "60000/60000 [==============================] - 4s 65us/step - loss: 0.0077 - accuracy: 0.9973 - val_loss: 0.0368 - val_accuracy: 0.9908\n",
            "10000/10000 [==============================] - 1s 93us/step\n",
            "Test Loss: 0.036844680307352835\n",
            "Test accuracy: 0.9908000230789185\n"
          ],
          "name": "stdout"
        }
      ]
    },
    {
      "cell_type": "code",
      "metadata": {
        "id": "dmwLHN7cqrdq",
        "colab_type": "code",
        "colab": {}
      },
      "source": [
        " "
      ],
      "execution_count": 0,
      "outputs": []
    }
  ]
}